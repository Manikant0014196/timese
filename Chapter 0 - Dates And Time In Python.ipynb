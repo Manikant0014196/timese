{
 "cells": [
  {
   "cell_type": "code",
   "execution_count": 194,
   "id": "1b514cb1-bf09-4d0c-83d5-77cee7d15d53",
   "metadata": {},
   "outputs": [],
   "source": [
    "import datetime as dt\n",
    "import pandas as pd\n",
    "import numpy as np\n",
    "import matplotlib.pyplot as plt\n",
    "\n",
    "import dateutil as du"
   ]
  },
  {
   "cell_type": "markdown",
   "id": "206a027f-1122-4d97-9fff-66fa4d34eecb",
   "metadata": {},
   "source": [
    "## Create A Date Object"
   ]
  },
  {
   "cell_type": "code",
   "execution_count": 2,
   "id": "147909fd-42f2-4e87-996d-fb44ca5b736c",
   "metadata": {},
   "outputs": [],
   "source": [
    "christmax_2021 = dt.date(2021, 12, 25)"
   ]
  },
  {
   "cell_type": "code",
   "execution_count": 7,
   "id": "b8ac41a5-2f62-4670-8961-59fbe2c0a909",
   "metadata": {},
   "outputs": [
    {
     "name": "stdout",
     "output_type": "stream",
     "text": [
      "2021-12-25\n"
     ]
    },
    {
     "data": {
      "text/plain": [
       "datetime.date"
      ]
     },
     "execution_count": 7,
     "metadata": {},
     "output_type": "execute_result"
    }
   ],
   "source": [
    "print(christmax_2021)\n",
    "type(christmax_2021)"
   ]
  },
  {
   "cell_type": "code",
   "execution_count": 47,
   "id": "a995afaa-e3cf-4aa6-af2e-c1140a09dd80",
   "metadata": {},
   "outputs": [
    {
     "data": {
      "text/plain": [
       "['__add__',\n",
       " '__class__',\n",
       " '__delattr__',\n",
       " '__dir__',\n",
       " '__doc__',\n",
       " '__eq__',\n",
       " '__format__',\n",
       " '__ge__',\n",
       " '__getattribute__',\n",
       " '__gt__',\n",
       " '__hash__',\n",
       " '__init__',\n",
       " '__init_subclass__',\n",
       " '__le__',\n",
       " '__lt__',\n",
       " '__ne__',\n",
       " '__new__',\n",
       " '__radd__',\n",
       " '__reduce__',\n",
       " '__reduce_ex__',\n",
       " '__repr__',\n",
       " '__rsub__',\n",
       " '__setattr__',\n",
       " '__sizeof__',\n",
       " '__str__',\n",
       " '__sub__',\n",
       " '__subclasshook__',\n",
       " 'ctime',\n",
       " 'day',\n",
       " 'fromisocalendar',\n",
       " 'fromisoformat',\n",
       " 'fromordinal',\n",
       " 'fromtimestamp',\n",
       " 'isocalendar',\n",
       " 'isoformat',\n",
       " 'isoweekday',\n",
       " 'max',\n",
       " 'min',\n",
       " 'month',\n",
       " 'replace',\n",
       " 'resolution',\n",
       " 'strftime',\n",
       " 'timetuple',\n",
       " 'today',\n",
       " 'toordinal',\n",
       " 'weekday',\n",
       " 'year']"
      ]
     },
     "execution_count": 47,
     "metadata": {},
     "output_type": "execute_result"
    }
   ],
   "source": [
    "dir(christmax_2021)"
   ]
  },
  {
   "cell_type": "code",
   "execution_count": 16,
   "id": "e764d14b-39db-41ed-b5ee-0ce25fdc8c87",
   "metadata": {},
   "outputs": [
    {
     "name": "stdout",
     "output_type": "stream",
     "text": [
      "2021\n",
      "12\n",
      "25\n"
     ]
    }
   ],
   "source": [
    "print(christmax_2021.year)\n",
    "print(christmax_2021.month)\n",
    "print(christmax_2021.day)"
   ]
  },
  {
   "cell_type": "code",
   "execution_count": 21,
   "id": "d4f36cf6-7db5-4981-b707-7d99d9844383",
   "metadata": {},
   "outputs": [
    {
     "data": {
      "text/plain": [
       "5"
      ]
     },
     "execution_count": 21,
     "metadata": {},
     "output_type": "execute_result"
    }
   ],
   "source": [
    "christmax_2021.weekday()"
   ]
  },
  {
   "cell_type": "code",
   "execution_count": 27,
   "id": "66a6b69a-4030-4abd-b390-77cdd1f2720d",
   "metadata": {},
   "outputs": [
    {
     "data": {
      "text/plain": [
       "(2021, 51, 6)"
      ]
     },
     "execution_count": 27,
     "metadata": {},
     "output_type": "execute_result"
    }
   ],
   "source": [
    "christmax_2021.isocalendar()"
   ]
  },
  {
   "cell_type": "markdown",
   "id": "e18f6250-6a2b-4793-be01-9766485ba358",
   "metadata": {},
   "source": [
    "## Subtracting Days"
   ]
  },
  {
   "cell_type": "code",
   "execution_count": 40,
   "id": "44a16fd5-bdcd-4597-a581-242a40f05d69",
   "metadata": {},
   "outputs": [],
   "source": [
    "inde_day_2021 = dt.date(2021, 11, 11) # Polish Independence day"
   ]
  },
  {
   "cell_type": "code",
   "execution_count": 49,
   "id": "2925026c-e8c5-4262-a6c9-4a046771d619",
   "metadata": {},
   "outputs": [
    {
     "name": "stdout",
     "output_type": "stream",
     "text": [
      "44 days, 0:00:00\n"
     ]
    },
    {
     "data": {
      "text/plain": [
       "datetime.timedelta"
      ]
     },
     "execution_count": 49,
     "metadata": {},
     "output_type": "execute_result"
    }
   ],
   "source": [
    "date_delta = christmax_2021 - inde_day_2021\n",
    "print(date_delta)\n",
    "type(date_delta)"
   ]
  },
  {
   "cell_type": "markdown",
   "id": "4a889a7d-3998-4ed5-ba1b-a36b81299bbf",
   "metadata": {},
   "source": [
    "Note the result is an objection of ```timedelta```, it can be created by us or created by any dates subtraction."
   ]
  },
  {
   "cell_type": "code",
   "execution_count": 50,
   "id": "937fbeae-10ee-4e35-891e-9ee3bc312400",
   "metadata": {},
   "outputs": [
    {
     "data": {
      "text/plain": [
       "['__abs__',\n",
       " '__add__',\n",
       " '__bool__',\n",
       " '__class__',\n",
       " '__delattr__',\n",
       " '__dir__',\n",
       " '__divmod__',\n",
       " '__doc__',\n",
       " '__eq__',\n",
       " '__floordiv__',\n",
       " '__format__',\n",
       " '__ge__',\n",
       " '__getattribute__',\n",
       " '__gt__',\n",
       " '__hash__',\n",
       " '__init__',\n",
       " '__init_subclass__',\n",
       " '__le__',\n",
       " '__lt__',\n",
       " '__mod__',\n",
       " '__mul__',\n",
       " '__ne__',\n",
       " '__neg__',\n",
       " '__new__',\n",
       " '__pos__',\n",
       " '__radd__',\n",
       " '__rdivmod__',\n",
       " '__reduce__',\n",
       " '__reduce_ex__',\n",
       " '__repr__',\n",
       " '__rfloordiv__',\n",
       " '__rmod__',\n",
       " '__rmul__',\n",
       " '__rsub__',\n",
       " '__rtruediv__',\n",
       " '__setattr__',\n",
       " '__sizeof__',\n",
       " '__str__',\n",
       " '__sub__',\n",
       " '__subclasshook__',\n",
       " '__truediv__',\n",
       " 'days',\n",
       " 'max',\n",
       " 'microseconds',\n",
       " 'min',\n",
       " 'resolution',\n",
       " 'seconds',\n",
       " 'total_seconds']"
      ]
     },
     "execution_count": 50,
     "metadata": {},
     "output_type": "execute_result"
    }
   ],
   "source": [
    "dir(date_delta)"
   ]
  },
  {
   "cell_type": "code",
   "execution_count": 57,
   "id": "c81db760-52a0-4a30-a158-80d2c921c857",
   "metadata": {},
   "outputs": [
    {
     "data": {
      "text/plain": [
       "3801600.0"
      ]
     },
     "execution_count": 57,
     "metadata": {},
     "output_type": "execute_result"
    }
   ],
   "source": [
    "date_delta.total_seconds()"
   ]
  },
  {
   "cell_type": "code",
   "execution_count": 61,
   "id": "92275d07-cfa5-4dd5-bf2e-1fbf879a3e1f",
   "metadata": {},
   "outputs": [
    {
     "data": {
      "text/plain": [
       "44"
      ]
     },
     "execution_count": 61,
     "metadata": {},
     "output_type": "execute_result"
    }
   ],
   "source": [
    "date_delta.days"
   ]
  },
  {
   "cell_type": "markdown",
   "id": "c9c12e94-86eb-4710-98e1-694e07664cfe",
   "metadata": {},
   "source": [
    "## Datetime Object At Seconds Level"
   ]
  },
  {
   "cell_type": "markdown",
   "id": "e18bab68-5f06-4217-8a3b-f247685e5cbf",
   "metadata": {},
   "source": [
    "```datatime``` can give us detailed time stamp at second."
   ]
  },
  {
   "cell_type": "code",
   "execution_count": 90,
   "id": "2cd879fc-cd75-49cd-aa11-0c4f8bad3a43",
   "metadata": {},
   "outputs": [
    {
     "data": {
      "text/plain": [
       "'2021-12-25T23:59:59'"
      ]
     },
     "execution_count": 90,
     "metadata": {},
     "output_type": "execute_result"
    }
   ],
   "source": [
    "christmas_2021_midnight = dt.datetime(2021, 12, 25, 23, 59, 59)\n",
    "christmas_2021_midnight.isoformat()"
   ]
  },
  {
   "cell_type": "code",
   "execution_count": 91,
   "id": "da405b47-2453-46c9-a70d-f7653b1c0061",
   "metadata": {},
   "outputs": [
    {
     "data": {
      "text/plain": [
       "['__add__',\n",
       " '__class__',\n",
       " '__delattr__',\n",
       " '__dir__',\n",
       " '__doc__',\n",
       " '__eq__',\n",
       " '__format__',\n",
       " '__ge__',\n",
       " '__getattribute__',\n",
       " '__gt__',\n",
       " '__hash__',\n",
       " '__init__',\n",
       " '__init_subclass__',\n",
       " '__le__',\n",
       " '__lt__',\n",
       " '__ne__',\n",
       " '__new__',\n",
       " '__radd__',\n",
       " '__reduce__',\n",
       " '__reduce_ex__',\n",
       " '__repr__',\n",
       " '__rsub__',\n",
       " '__setattr__',\n",
       " '__sizeof__',\n",
       " '__str__',\n",
       " '__sub__',\n",
       " '__subclasshook__',\n",
       " 'astimezone',\n",
       " 'combine',\n",
       " 'ctime',\n",
       " 'date',\n",
       " 'day',\n",
       " 'dst',\n",
       " 'fold',\n",
       " 'fromisocalendar',\n",
       " 'fromisoformat',\n",
       " 'fromordinal',\n",
       " 'fromtimestamp',\n",
       " 'hour',\n",
       " 'isocalendar',\n",
       " 'isoformat',\n",
       " 'isoweekday',\n",
       " 'max',\n",
       " 'microsecond',\n",
       " 'min',\n",
       " 'minute',\n",
       " 'month',\n",
       " 'now',\n",
       " 'replace',\n",
       " 'resolution',\n",
       " 'second',\n",
       " 'strftime',\n",
       " 'strptime',\n",
       " 'time',\n",
       " 'timestamp',\n",
       " 'timetuple',\n",
       " 'timetz',\n",
       " 'today',\n",
       " 'toordinal',\n",
       " 'tzinfo',\n",
       " 'tzname',\n",
       " 'utcfromtimestamp',\n",
       " 'utcnow',\n",
       " 'utcoffset',\n",
       " 'utctimetuple',\n",
       " 'weekday',\n",
       " 'year']"
      ]
     },
     "execution_count": 91,
     "metadata": {},
     "output_type": "execute_result"
    }
   ],
   "source": [
    "dir(christmas_2021_midnight)"
   ]
  },
  {
   "cell_type": "code",
   "execution_count": 98,
   "id": "3f9efe77-1270-4ea4-8f30-d584fd1875ab",
   "metadata": {},
   "outputs": [
    {
     "name": "stdout",
     "output_type": "stream",
     "text": [
      "2022-12-24 11:59:59\n"
     ]
    }
   ],
   "source": [
    "christmas_eve_2022_noon = christmas_2021_midnight.replace(year=2022, month=12, day=24, hour=11, minute=59, second=59)\n",
    "print(christmas_eve_2022_noon)"
   ]
  },
  {
   "cell_type": "code",
   "execution_count": 99,
   "id": "312d3362-6d06-41f2-9f7c-bfa19c06b348",
   "metadata": {},
   "outputs": [
    {
     "name": "stdout",
     "output_type": "stream",
     "text": [
      "2021\n",
      "12\n",
      "25\n",
      "23\n",
      "59\n",
      "59\n"
     ]
    }
   ],
   "source": [
    "print(christmas_2021_midnight.year)\n",
    "print(christmas_2021_midnight.month)\n",
    "print(christmas_2021_midnight.day)\n",
    "print(christmas_2021_midnight.hour)\n",
    "print(christmas_2021_midnight.minute)\n",
    "print(christmas_2021_midnight.second)"
   ]
  },
  {
   "cell_type": "markdown",
   "id": "2e54a4bc-e208-4fda-91de-0f66138854a9",
   "metadata": {},
   "source": [
    "## Formats"
   ]
  },
  {
   "cell_type": "markdown",
   "id": "7fdd48a5-824f-4570-be2d-3d72a1e3b968",
   "metadata": {},
   "source": [
    "ISO format"
   ]
  },
  {
   "cell_type": "code",
   "execution_count": 63,
   "id": "65590562-48ed-4c7e-849a-11e7261046c0",
   "metadata": {},
   "outputs": [
    {
     "data": {
      "text/plain": [
       "'2021-12-25'"
      ]
     },
     "execution_count": 63,
     "metadata": {},
     "output_type": "execute_result"
    }
   ],
   "source": [
    "christmax_2021.isoformat()"
   ]
  },
  {
   "cell_type": "markdown",
   "id": "07616b2c-349f-4a47-833b-e1431cbff164",
   "metadata": {},
   "source": [
    "Check <a href='https://docs.python.org/3/library/datetime.html'>here</a> use the proper format codes."
   ]
  },
  {
   "cell_type": "code",
   "execution_count": 72,
   "id": "c106dd61-26a4-40ef-9048-fc142e5bff0f",
   "metadata": {},
   "outputs": [
    {
     "data": {
      "text/plain": [
       "'25-12-2021'"
      ]
     },
     "execution_count": 72,
     "metadata": {},
     "output_type": "execute_result"
    }
   ],
   "source": [
    "christmax_2021.strftime('%d-%m-%Y')"
   ]
  },
  {
   "cell_type": "code",
   "execution_count": 71,
   "id": "b8039108-c55c-4421-8d44-7606c2869d17",
   "metadata": {},
   "outputs": [
    {
     "data": {
      "text/plain": [
       "'25-December-2021'"
      ]
     },
     "execution_count": 71,
     "metadata": {},
     "output_type": "execute_result"
    }
   ],
   "source": [
    "christmax_2021.strftime('%d-%B-%Y')"
   ]
  },
  {
   "cell_type": "markdown",
   "id": "4e66f9f7-08ae-4223-b0a0-0a362a001744",
   "metadata": {},
   "source": [
    "Use whatever separator you prefer."
   ]
  },
  {
   "cell_type": "code",
   "execution_count": 79,
   "id": "ac55bfd5-795e-40a8-b047-ea74a4c7332b",
   "metadata": {},
   "outputs": [
    {
     "data": {
      "text/plain": [
       "'2021  ~*~+#  12  ~*~#&*  25'"
      ]
     },
     "execution_count": 79,
     "metadata": {},
     "output_type": "execute_result"
    }
   ],
   "source": [
    "christmax_2021.strftime('%Y  ~*~+#  %m  ~*~#&*  %d')"
   ]
  },
  {
   "cell_type": "code",
   "execution_count": 81,
   "id": "194e5f0c-12f3-4359-9c4b-6860f150a9d4",
   "metadata": {},
   "outputs": [
    {
     "data": {
      "text/plain": [
       "'2021, the number of day 359'"
      ]
     },
     "execution_count": 81,
     "metadata": {},
     "output_type": "execute_result"
    }
   ],
   "source": [
    "christmax_2021.strftime('%Y, the number of day %j')"
   ]
  },
  {
   "cell_type": "markdown",
   "id": "3b9fafc0-5c59-4940-b92a-966586c468f6",
   "metadata": {},
   "source": [
    "## Load Data"
   ]
  },
  {
   "cell_type": "code",
   "execution_count": 30,
   "id": "3b432f65-0c0f-48f0-84ab-6b7d5f4d8479",
   "metadata": {},
   "outputs": [],
   "source": [
    "df_bike = pd.read_csv('metro-bike-share-trip-data.csv')"
   ]
  },
  {
   "cell_type": "code",
   "execution_count": 31,
   "id": "9c2d4573-2c7f-4871-9367-97b4443d689f",
   "metadata": {},
   "outputs": [
    {
     "data": {
      "text/html": [
       "<div>\n",
       "<style scoped>\n",
       "    .dataframe tbody tr th:only-of-type {\n",
       "        vertical-align: middle;\n",
       "    }\n",
       "\n",
       "    .dataframe tbody tr th {\n",
       "        vertical-align: top;\n",
       "    }\n",
       "\n",
       "    .dataframe thead th {\n",
       "        text-align: right;\n",
       "    }\n",
       "</style>\n",
       "<table border=\"1\" class=\"dataframe\">\n",
       "  <thead>\n",
       "    <tr style=\"text-align: right;\">\n",
       "      <th></th>\n",
       "      <th>Trip ID</th>\n",
       "      <th>Duration</th>\n",
       "      <th>Start Time</th>\n",
       "      <th>End Time</th>\n",
       "      <th>Starting Station ID</th>\n",
       "      <th>Starting Station Latitude</th>\n",
       "      <th>Starting Station Longitude</th>\n",
       "      <th>Ending Station ID</th>\n",
       "      <th>Ending Station Latitude</th>\n",
       "      <th>Ending Station Longitude</th>\n",
       "      <th>...</th>\n",
       "      <th>Trip Route Category</th>\n",
       "      <th>Passholder Type</th>\n",
       "      <th>Starting Lat-Long</th>\n",
       "      <th>Ending Lat-Long</th>\n",
       "      <th>Neighborhood Councils (Certified)</th>\n",
       "      <th>Council Districts</th>\n",
       "      <th>Zip Codes</th>\n",
       "      <th>LA Specific Plans</th>\n",
       "      <th>Precinct Boundaries</th>\n",
       "      <th>Census Tracts</th>\n",
       "    </tr>\n",
       "  </thead>\n",
       "  <tbody>\n",
       "    <tr>\n",
       "      <th>0</th>\n",
       "      <td>18222186</td>\n",
       "      <td>15060</td>\n",
       "      <td>2017-01-19T17:05:00.000</td>\n",
       "      <td>2017-01-19T21:16:00.000</td>\n",
       "      <td>3031.0</td>\n",
       "      <td>34.044701</td>\n",
       "      <td>-118.252441</td>\n",
       "      <td>3000.0</td>\n",
       "      <td>NaN</td>\n",
       "      <td>NaN</td>\n",
       "      <td>...</td>\n",
       "      <td>One Way</td>\n",
       "      <td>Walk-up</td>\n",
       "      <td>NaN</td>\n",
       "      <td>NaN</td>\n",
       "      <td>NaN</td>\n",
       "      <td>NaN</td>\n",
       "      <td>NaN</td>\n",
       "      <td>NaN</td>\n",
       "      <td>NaN</td>\n",
       "      <td>NaN</td>\n",
       "    </tr>\n",
       "    <tr>\n",
       "      <th>1</th>\n",
       "      <td>9518671</td>\n",
       "      <td>77160</td>\n",
       "      <td>2016-10-09T14:37:00.000</td>\n",
       "      <td>2016-10-10T12:03:00.000</td>\n",
       "      <td>NaN</td>\n",
       "      <td>NaN</td>\n",
       "      <td>NaN</td>\n",
       "      <td>3000.0</td>\n",
       "      <td>NaN</td>\n",
       "      <td>NaN</td>\n",
       "      <td>...</td>\n",
       "      <td>One Way</td>\n",
       "      <td>Monthly Pass</td>\n",
       "      <td>NaN</td>\n",
       "      <td>NaN</td>\n",
       "      <td>NaN</td>\n",
       "      <td>NaN</td>\n",
       "      <td>NaN</td>\n",
       "      <td>NaN</td>\n",
       "      <td>NaN</td>\n",
       "      <td>NaN</td>\n",
       "    </tr>\n",
       "    <tr>\n",
       "      <th>2</th>\n",
       "      <td>20444932</td>\n",
       "      <td>86400</td>\n",
       "      <td>2017-02-18T10:15:00.000</td>\n",
       "      <td>2017-02-20T15:20:00.000</td>\n",
       "      <td>3026.0</td>\n",
       "      <td>34.063179</td>\n",
       "      <td>-118.245880</td>\n",
       "      <td>3000.0</td>\n",
       "      <td>NaN</td>\n",
       "      <td>NaN</td>\n",
       "      <td>...</td>\n",
       "      <td>One Way</td>\n",
       "      <td>Walk-up</td>\n",
       "      <td>NaN</td>\n",
       "      <td>NaN</td>\n",
       "      <td>NaN</td>\n",
       "      <td>NaN</td>\n",
       "      <td>NaN</td>\n",
       "      <td>NaN</td>\n",
       "      <td>NaN</td>\n",
       "      <td>NaN</td>\n",
       "    </tr>\n",
       "    <tr>\n",
       "      <th>3</th>\n",
       "      <td>20905031</td>\n",
       "      <td>18840</td>\n",
       "      <td>2017-02-27T12:26:00.000</td>\n",
       "      <td>2017-02-27T17:40:00.000</td>\n",
       "      <td>3023.0</td>\n",
       "      <td>34.050911</td>\n",
       "      <td>-118.240967</td>\n",
       "      <td>3000.0</td>\n",
       "      <td>NaN</td>\n",
       "      <td>NaN</td>\n",
       "      <td>...</td>\n",
       "      <td>One Way</td>\n",
       "      <td>Walk-up</td>\n",
       "      <td>NaN</td>\n",
       "      <td>NaN</td>\n",
       "      <td>NaN</td>\n",
       "      <td>NaN</td>\n",
       "      <td>NaN</td>\n",
       "      <td>NaN</td>\n",
       "      <td>NaN</td>\n",
       "      <td>NaN</td>\n",
       "    </tr>\n",
       "    <tr>\n",
       "      <th>4</th>\n",
       "      <td>21031476</td>\n",
       "      <td>86400</td>\n",
       "      <td>2017-02-27T20:26:00.000</td>\n",
       "      <td>2017-03-01T09:49:00.000</td>\n",
       "      <td>3008.0</td>\n",
       "      <td>34.046612</td>\n",
       "      <td>-118.262733</td>\n",
       "      <td>3000.0</td>\n",
       "      <td>NaN</td>\n",
       "      <td>NaN</td>\n",
       "      <td>...</td>\n",
       "      <td>One Way</td>\n",
       "      <td>Flex Pass</td>\n",
       "      <td>NaN</td>\n",
       "      <td>NaN</td>\n",
       "      <td>NaN</td>\n",
       "      <td>NaN</td>\n",
       "      <td>NaN</td>\n",
       "      <td>NaN</td>\n",
       "      <td>NaN</td>\n",
       "      <td>NaN</td>\n",
       "    </tr>\n",
       "  </tbody>\n",
       "</table>\n",
       "<p>5 rows × 22 columns</p>\n",
       "</div>"
      ],
      "text/plain": [
       "    Trip ID  Duration               Start Time                 End Time  \\\n",
       "0  18222186     15060  2017-01-19T17:05:00.000  2017-01-19T21:16:00.000   \n",
       "1   9518671     77160  2016-10-09T14:37:00.000  2016-10-10T12:03:00.000   \n",
       "2  20444932     86400  2017-02-18T10:15:00.000  2017-02-20T15:20:00.000   \n",
       "3  20905031     18840  2017-02-27T12:26:00.000  2017-02-27T17:40:00.000   \n",
       "4  21031476     86400  2017-02-27T20:26:00.000  2017-03-01T09:49:00.000   \n",
       "\n",
       "   Starting Station ID  Starting Station Latitude  Starting Station Longitude  \\\n",
       "0               3031.0                  34.044701                 -118.252441   \n",
       "1                  NaN                        NaN                         NaN   \n",
       "2               3026.0                  34.063179                 -118.245880   \n",
       "3               3023.0                  34.050911                 -118.240967   \n",
       "4               3008.0                  34.046612                 -118.262733   \n",
       "\n",
       "   Ending Station ID  Ending Station Latitude  Ending Station Longitude  ...  \\\n",
       "0             3000.0                      NaN                       NaN  ...   \n",
       "1             3000.0                      NaN                       NaN  ...   \n",
       "2             3000.0                      NaN                       NaN  ...   \n",
       "3             3000.0                      NaN                       NaN  ...   \n",
       "4             3000.0                      NaN                       NaN  ...   \n",
       "\n",
       "   Trip Route Category  Passholder Type Starting Lat-Long Ending Lat-Long  \\\n",
       "0              One Way          Walk-up               NaN             NaN   \n",
       "1              One Way     Monthly Pass               NaN             NaN   \n",
       "2              One Way          Walk-up               NaN             NaN   \n",
       "3              One Way          Walk-up               NaN             NaN   \n",
       "4              One Way        Flex Pass               NaN             NaN   \n",
       "\n",
       "  Neighborhood Councils (Certified) Council Districts  Zip Codes  \\\n",
       "0                               NaN               NaN        NaN   \n",
       "1                               NaN               NaN        NaN   \n",
       "2                               NaN               NaN        NaN   \n",
       "3                               NaN               NaN        NaN   \n",
       "4                               NaN               NaN        NaN   \n",
       "\n",
       "   LA Specific Plans  Precinct Boundaries  Census Tracts  \n",
       "0                NaN                  NaN            NaN  \n",
       "1                NaN                  NaN            NaN  \n",
       "2                NaN                  NaN            NaN  \n",
       "3                NaN                  NaN            NaN  \n",
       "4                NaN                  NaN            NaN  \n",
       "\n",
       "[5 rows x 22 columns]"
      ]
     },
     "execution_count": 31,
     "metadata": {},
     "output_type": "execute_result"
    }
   ],
   "source": [
    "df_bike.head()"
   ]
  },
  {
   "cell_type": "markdown",
   "id": "a1125e6c-c6bf-4aa3-adcb-7cc0de8fa455",
   "metadata": {},
   "source": [
    "We check what data type is in _Start Time_ and _End Time_."
   ]
  },
  {
   "cell_type": "code",
   "execution_count": 102,
   "id": "19e609aa-5740-4fc7-9d8c-2f6a8884ee1b",
   "metadata": {},
   "outputs": [
    {
     "data": {
      "text/plain": [
       "str"
      ]
     },
     "execution_count": 102,
     "metadata": {},
     "output_type": "execute_result"
    }
   ],
   "source": [
    "type(df_bike['Start Time'][0])"
   ]
  },
  {
   "cell_type": "markdown",
   "id": "999fbd17-5a19-41aa-ad79-5590cefc51fa",
   "metadata": {},
   "source": [
    "## Parsing String As Datetime Object"
   ]
  },
  {
   "cell_type": "markdown",
   "id": "35815ffd-dc82-4970-8a63-1291d08cbda8",
   "metadata": {},
   "source": [
    "Those two columns are strings rather than datetime objects, we got to parse them."
   ]
  },
  {
   "cell_type": "code",
   "execution_count": 107,
   "id": "0ad4fabb-8db1-4150-8e4b-51445d3aaa5c",
   "metadata": {},
   "outputs": [],
   "source": [
    "fmt = '%Y-%m-%dT%H:%M:%S.%f'\n",
    "s = df_bike['Start Time'][0]"
   ]
  },
  {
   "cell_type": "code",
   "execution_count": 108,
   "id": "eea65eb6-6f90-48a2-9322-79b2f64cab96",
   "metadata": {},
   "outputs": [],
   "source": [
    "d = dt.datetime.strptime(s, fmt)"
   ]
  },
  {
   "cell_type": "code",
   "execution_count": 109,
   "id": "394a02be-78f3-4526-90bf-5c6f0523eaa9",
   "metadata": {},
   "outputs": [
    {
     "data": {
      "text/plain": [
       "datetime.datetime(2017, 1, 19, 17, 5)"
      ]
     },
     "execution_count": 109,
     "metadata": {},
     "output_type": "execute_result"
    }
   ],
   "source": [
    "d"
   ]
  },
  {
   "cell_type": "code",
   "execution_count": 118,
   "id": "d257be95-de5c-4588-ad66-c57689fa8b91",
   "metadata": {},
   "outputs": [],
   "source": [
    "df_bike['StartTime_Parsed'] = df_bike['Start Time'].apply(lambda x: dt.datetime.strptime(x, fmt))\n",
    "df_bike['EndTime_Parsed'] = df_bike['End Time'].apply(lambda x: dt.datetime.strptime(x, fmt))"
   ]
  },
  {
   "cell_type": "code",
   "execution_count": 119,
   "id": "2e58e41a-f0c6-4bf9-8549-a39f3e6cc5e4",
   "metadata": {},
   "outputs": [
    {
     "data": {
      "text/html": [
       "<div>\n",
       "<style scoped>\n",
       "    .dataframe tbody tr th:only-of-type {\n",
       "        vertical-align: middle;\n",
       "    }\n",
       "\n",
       "    .dataframe tbody tr th {\n",
       "        vertical-align: top;\n",
       "    }\n",
       "\n",
       "    .dataframe thead th {\n",
       "        text-align: right;\n",
       "    }\n",
       "</style>\n",
       "<table border=\"1\" class=\"dataframe\">\n",
       "  <thead>\n",
       "    <tr style=\"text-align: right;\">\n",
       "      <th></th>\n",
       "      <th>Trip ID</th>\n",
       "      <th>Duration</th>\n",
       "      <th>Start Time</th>\n",
       "      <th>End Time</th>\n",
       "      <th>Starting Station ID</th>\n",
       "      <th>Starting Station Latitude</th>\n",
       "      <th>Starting Station Longitude</th>\n",
       "      <th>Ending Station ID</th>\n",
       "      <th>Ending Station Latitude</th>\n",
       "      <th>Ending Station Longitude</th>\n",
       "      <th>...</th>\n",
       "      <th>Starting Lat-Long</th>\n",
       "      <th>Ending Lat-Long</th>\n",
       "      <th>Neighborhood Councils (Certified)</th>\n",
       "      <th>Council Districts</th>\n",
       "      <th>Zip Codes</th>\n",
       "      <th>LA Specific Plans</th>\n",
       "      <th>Precinct Boundaries</th>\n",
       "      <th>Census Tracts</th>\n",
       "      <th>StartTime_Parsed</th>\n",
       "      <th>EndTime_Parsed</th>\n",
       "    </tr>\n",
       "  </thead>\n",
       "  <tbody>\n",
       "    <tr>\n",
       "      <th>0</th>\n",
       "      <td>18222186</td>\n",
       "      <td>15060</td>\n",
       "      <td>2017-01-19T17:05:00.000</td>\n",
       "      <td>2017-01-19T21:16:00.000</td>\n",
       "      <td>3031.0</td>\n",
       "      <td>34.044701</td>\n",
       "      <td>-118.252441</td>\n",
       "      <td>3000.0</td>\n",
       "      <td>NaN</td>\n",
       "      <td>NaN</td>\n",
       "      <td>...</td>\n",
       "      <td>NaN</td>\n",
       "      <td>NaN</td>\n",
       "      <td>NaN</td>\n",
       "      <td>NaN</td>\n",
       "      <td>NaN</td>\n",
       "      <td>NaN</td>\n",
       "      <td>NaN</td>\n",
       "      <td>NaN</td>\n",
       "      <td>2017-01-19 17:05:00</td>\n",
       "      <td>2017-01-19 21:16:00</td>\n",
       "    </tr>\n",
       "    <tr>\n",
       "      <th>1</th>\n",
       "      <td>9518671</td>\n",
       "      <td>77160</td>\n",
       "      <td>2016-10-09T14:37:00.000</td>\n",
       "      <td>2016-10-10T12:03:00.000</td>\n",
       "      <td>NaN</td>\n",
       "      <td>NaN</td>\n",
       "      <td>NaN</td>\n",
       "      <td>3000.0</td>\n",
       "      <td>NaN</td>\n",
       "      <td>NaN</td>\n",
       "      <td>...</td>\n",
       "      <td>NaN</td>\n",
       "      <td>NaN</td>\n",
       "      <td>NaN</td>\n",
       "      <td>NaN</td>\n",
       "      <td>NaN</td>\n",
       "      <td>NaN</td>\n",
       "      <td>NaN</td>\n",
       "      <td>NaN</td>\n",
       "      <td>2016-10-09 14:37:00</td>\n",
       "      <td>2016-10-10 12:03:00</td>\n",
       "    </tr>\n",
       "    <tr>\n",
       "      <th>2</th>\n",
       "      <td>20444932</td>\n",
       "      <td>86400</td>\n",
       "      <td>2017-02-18T10:15:00.000</td>\n",
       "      <td>2017-02-20T15:20:00.000</td>\n",
       "      <td>3026.0</td>\n",
       "      <td>34.063179</td>\n",
       "      <td>-118.245880</td>\n",
       "      <td>3000.0</td>\n",
       "      <td>NaN</td>\n",
       "      <td>NaN</td>\n",
       "      <td>...</td>\n",
       "      <td>NaN</td>\n",
       "      <td>NaN</td>\n",
       "      <td>NaN</td>\n",
       "      <td>NaN</td>\n",
       "      <td>NaN</td>\n",
       "      <td>NaN</td>\n",
       "      <td>NaN</td>\n",
       "      <td>NaN</td>\n",
       "      <td>2017-02-18 10:15:00</td>\n",
       "      <td>2017-02-20 15:20:00</td>\n",
       "    </tr>\n",
       "    <tr>\n",
       "      <th>3</th>\n",
       "      <td>20905031</td>\n",
       "      <td>18840</td>\n",
       "      <td>2017-02-27T12:26:00.000</td>\n",
       "      <td>2017-02-27T17:40:00.000</td>\n",
       "      <td>3023.0</td>\n",
       "      <td>34.050911</td>\n",
       "      <td>-118.240967</td>\n",
       "      <td>3000.0</td>\n",
       "      <td>NaN</td>\n",
       "      <td>NaN</td>\n",
       "      <td>...</td>\n",
       "      <td>NaN</td>\n",
       "      <td>NaN</td>\n",
       "      <td>NaN</td>\n",
       "      <td>NaN</td>\n",
       "      <td>NaN</td>\n",
       "      <td>NaN</td>\n",
       "      <td>NaN</td>\n",
       "      <td>NaN</td>\n",
       "      <td>2017-02-27 12:26:00</td>\n",
       "      <td>2017-02-27 17:40:00</td>\n",
       "    </tr>\n",
       "    <tr>\n",
       "      <th>4</th>\n",
       "      <td>21031476</td>\n",
       "      <td>86400</td>\n",
       "      <td>2017-02-27T20:26:00.000</td>\n",
       "      <td>2017-03-01T09:49:00.000</td>\n",
       "      <td>3008.0</td>\n",
       "      <td>34.046612</td>\n",
       "      <td>-118.262733</td>\n",
       "      <td>3000.0</td>\n",
       "      <td>NaN</td>\n",
       "      <td>NaN</td>\n",
       "      <td>...</td>\n",
       "      <td>NaN</td>\n",
       "      <td>NaN</td>\n",
       "      <td>NaN</td>\n",
       "      <td>NaN</td>\n",
       "      <td>NaN</td>\n",
       "      <td>NaN</td>\n",
       "      <td>NaN</td>\n",
       "      <td>NaN</td>\n",
       "      <td>2017-02-27 20:26:00</td>\n",
       "      <td>2017-03-01 09:49:00</td>\n",
       "    </tr>\n",
       "  </tbody>\n",
       "</table>\n",
       "<p>5 rows × 24 columns</p>\n",
       "</div>"
      ],
      "text/plain": [
       "    Trip ID  Duration               Start Time                 End Time  \\\n",
       "0  18222186     15060  2017-01-19T17:05:00.000  2017-01-19T21:16:00.000   \n",
       "1   9518671     77160  2016-10-09T14:37:00.000  2016-10-10T12:03:00.000   \n",
       "2  20444932     86400  2017-02-18T10:15:00.000  2017-02-20T15:20:00.000   \n",
       "3  20905031     18840  2017-02-27T12:26:00.000  2017-02-27T17:40:00.000   \n",
       "4  21031476     86400  2017-02-27T20:26:00.000  2017-03-01T09:49:00.000   \n",
       "\n",
       "   Starting Station ID  Starting Station Latitude  Starting Station Longitude  \\\n",
       "0               3031.0                  34.044701                 -118.252441   \n",
       "1                  NaN                        NaN                         NaN   \n",
       "2               3026.0                  34.063179                 -118.245880   \n",
       "3               3023.0                  34.050911                 -118.240967   \n",
       "4               3008.0                  34.046612                 -118.262733   \n",
       "\n",
       "   Ending Station ID  Ending Station Latitude  Ending Station Longitude  ...  \\\n",
       "0             3000.0                      NaN                       NaN  ...   \n",
       "1             3000.0                      NaN                       NaN  ...   \n",
       "2             3000.0                      NaN                       NaN  ...   \n",
       "3             3000.0                      NaN                       NaN  ...   \n",
       "4             3000.0                      NaN                       NaN  ...   \n",
       "\n",
       "   Starting Lat-Long  Ending Lat-Long Neighborhood Councils (Certified)  \\\n",
       "0                NaN              NaN                               NaN   \n",
       "1                NaN              NaN                               NaN   \n",
       "2                NaN              NaN                               NaN   \n",
       "3                NaN              NaN                               NaN   \n",
       "4                NaN              NaN                               NaN   \n",
       "\n",
       "  Council Districts Zip Codes LA Specific Plans  Precinct Boundaries  \\\n",
       "0               NaN       NaN               NaN                  NaN   \n",
       "1               NaN       NaN               NaN                  NaN   \n",
       "2               NaN       NaN               NaN                  NaN   \n",
       "3               NaN       NaN               NaN                  NaN   \n",
       "4               NaN       NaN               NaN                  NaN   \n",
       "\n",
       "   Census Tracts    StartTime_Parsed      EndTime_Parsed  \n",
       "0            NaN 2017-01-19 17:05:00 2017-01-19 21:16:00  \n",
       "1            NaN 2016-10-09 14:37:00 2016-10-10 12:03:00  \n",
       "2            NaN 2017-02-18 10:15:00 2017-02-20 15:20:00  \n",
       "3            NaN 2017-02-27 12:26:00 2017-02-27 17:40:00  \n",
       "4            NaN 2017-02-27 20:26:00 2017-03-01 09:49:00  \n",
       "\n",
       "[5 rows x 24 columns]"
      ]
     },
     "execution_count": 119,
     "metadata": {},
     "output_type": "execute_result"
    }
   ],
   "source": [
    "df_bike.head()"
   ]
  },
  {
   "cell_type": "markdown",
   "id": "bae170d2-bf4f-450d-a38f-c81b2c7a0c15",
   "metadata": {},
   "source": [
    "Duration can be conveniently computed now."
   ]
  },
  {
   "cell_type": "code",
   "execution_count": 121,
   "id": "68a74353-9121-42a1-ab0d-42c6e4c6f48b",
   "metadata": {},
   "outputs": [
    {
     "data": {
      "text/html": [
       "<div>\n",
       "<style scoped>\n",
       "    .dataframe tbody tr th:only-of-type {\n",
       "        vertical-align: middle;\n",
       "    }\n",
       "\n",
       "    .dataframe tbody tr th {\n",
       "        vertical-align: top;\n",
       "    }\n",
       "\n",
       "    .dataframe thead th {\n",
       "        text-align: right;\n",
       "    }\n",
       "</style>\n",
       "<table border=\"1\" class=\"dataframe\">\n",
       "  <thead>\n",
       "    <tr style=\"text-align: right;\">\n",
       "      <th></th>\n",
       "      <th>Trip ID</th>\n",
       "      <th>Duration</th>\n",
       "      <th>Start Time</th>\n",
       "      <th>End Time</th>\n",
       "      <th>Starting Station ID</th>\n",
       "      <th>Starting Station Latitude</th>\n",
       "      <th>Starting Station Longitude</th>\n",
       "      <th>Ending Station ID</th>\n",
       "      <th>Ending Station Latitude</th>\n",
       "      <th>Ending Station Longitude</th>\n",
       "      <th>...</th>\n",
       "      <th>Ending Lat-Long</th>\n",
       "      <th>Neighborhood Councils (Certified)</th>\n",
       "      <th>Council Districts</th>\n",
       "      <th>Zip Codes</th>\n",
       "      <th>LA Specific Plans</th>\n",
       "      <th>Precinct Boundaries</th>\n",
       "      <th>Census Tracts</th>\n",
       "      <th>StartTime_Parsed</th>\n",
       "      <th>EndTime_Parsed</th>\n",
       "      <th>duration</th>\n",
       "    </tr>\n",
       "  </thead>\n",
       "  <tbody>\n",
       "    <tr>\n",
       "      <th>0</th>\n",
       "      <td>18222186</td>\n",
       "      <td>15060</td>\n",
       "      <td>2017-01-19T17:05:00.000</td>\n",
       "      <td>2017-01-19T21:16:00.000</td>\n",
       "      <td>3031.0</td>\n",
       "      <td>34.044701</td>\n",
       "      <td>-118.252441</td>\n",
       "      <td>3000.0</td>\n",
       "      <td>NaN</td>\n",
       "      <td>NaN</td>\n",
       "      <td>...</td>\n",
       "      <td>NaN</td>\n",
       "      <td>NaN</td>\n",
       "      <td>NaN</td>\n",
       "      <td>NaN</td>\n",
       "      <td>NaN</td>\n",
       "      <td>NaN</td>\n",
       "      <td>NaN</td>\n",
       "      <td>2017-01-19 17:05:00</td>\n",
       "      <td>2017-01-19 21:16:00</td>\n",
       "      <td>0 days 04:11:00</td>\n",
       "    </tr>\n",
       "    <tr>\n",
       "      <th>1</th>\n",
       "      <td>9518671</td>\n",
       "      <td>77160</td>\n",
       "      <td>2016-10-09T14:37:00.000</td>\n",
       "      <td>2016-10-10T12:03:00.000</td>\n",
       "      <td>NaN</td>\n",
       "      <td>NaN</td>\n",
       "      <td>NaN</td>\n",
       "      <td>3000.0</td>\n",
       "      <td>NaN</td>\n",
       "      <td>NaN</td>\n",
       "      <td>...</td>\n",
       "      <td>NaN</td>\n",
       "      <td>NaN</td>\n",
       "      <td>NaN</td>\n",
       "      <td>NaN</td>\n",
       "      <td>NaN</td>\n",
       "      <td>NaN</td>\n",
       "      <td>NaN</td>\n",
       "      <td>2016-10-09 14:37:00</td>\n",
       "      <td>2016-10-10 12:03:00</td>\n",
       "      <td>0 days 21:26:00</td>\n",
       "    </tr>\n",
       "    <tr>\n",
       "      <th>2</th>\n",
       "      <td>20444932</td>\n",
       "      <td>86400</td>\n",
       "      <td>2017-02-18T10:15:00.000</td>\n",
       "      <td>2017-02-20T15:20:00.000</td>\n",
       "      <td>3026.0</td>\n",
       "      <td>34.063179</td>\n",
       "      <td>-118.245880</td>\n",
       "      <td>3000.0</td>\n",
       "      <td>NaN</td>\n",
       "      <td>NaN</td>\n",
       "      <td>...</td>\n",
       "      <td>NaN</td>\n",
       "      <td>NaN</td>\n",
       "      <td>NaN</td>\n",
       "      <td>NaN</td>\n",
       "      <td>NaN</td>\n",
       "      <td>NaN</td>\n",
       "      <td>NaN</td>\n",
       "      <td>2017-02-18 10:15:00</td>\n",
       "      <td>2017-02-20 15:20:00</td>\n",
       "      <td>2 days 05:05:00</td>\n",
       "    </tr>\n",
       "    <tr>\n",
       "      <th>3</th>\n",
       "      <td>20905031</td>\n",
       "      <td>18840</td>\n",
       "      <td>2017-02-27T12:26:00.000</td>\n",
       "      <td>2017-02-27T17:40:00.000</td>\n",
       "      <td>3023.0</td>\n",
       "      <td>34.050911</td>\n",
       "      <td>-118.240967</td>\n",
       "      <td>3000.0</td>\n",
       "      <td>NaN</td>\n",
       "      <td>NaN</td>\n",
       "      <td>...</td>\n",
       "      <td>NaN</td>\n",
       "      <td>NaN</td>\n",
       "      <td>NaN</td>\n",
       "      <td>NaN</td>\n",
       "      <td>NaN</td>\n",
       "      <td>NaN</td>\n",
       "      <td>NaN</td>\n",
       "      <td>2017-02-27 12:26:00</td>\n",
       "      <td>2017-02-27 17:40:00</td>\n",
       "      <td>0 days 05:14:00</td>\n",
       "    </tr>\n",
       "    <tr>\n",
       "      <th>4</th>\n",
       "      <td>21031476</td>\n",
       "      <td>86400</td>\n",
       "      <td>2017-02-27T20:26:00.000</td>\n",
       "      <td>2017-03-01T09:49:00.000</td>\n",
       "      <td>3008.0</td>\n",
       "      <td>34.046612</td>\n",
       "      <td>-118.262733</td>\n",
       "      <td>3000.0</td>\n",
       "      <td>NaN</td>\n",
       "      <td>NaN</td>\n",
       "      <td>...</td>\n",
       "      <td>NaN</td>\n",
       "      <td>NaN</td>\n",
       "      <td>NaN</td>\n",
       "      <td>NaN</td>\n",
       "      <td>NaN</td>\n",
       "      <td>NaN</td>\n",
       "      <td>NaN</td>\n",
       "      <td>2017-02-27 20:26:00</td>\n",
       "      <td>2017-03-01 09:49:00</td>\n",
       "      <td>1 days 13:23:00</td>\n",
       "    </tr>\n",
       "  </tbody>\n",
       "</table>\n",
       "<p>5 rows × 25 columns</p>\n",
       "</div>"
      ],
      "text/plain": [
       "    Trip ID  Duration               Start Time                 End Time  \\\n",
       "0  18222186     15060  2017-01-19T17:05:00.000  2017-01-19T21:16:00.000   \n",
       "1   9518671     77160  2016-10-09T14:37:00.000  2016-10-10T12:03:00.000   \n",
       "2  20444932     86400  2017-02-18T10:15:00.000  2017-02-20T15:20:00.000   \n",
       "3  20905031     18840  2017-02-27T12:26:00.000  2017-02-27T17:40:00.000   \n",
       "4  21031476     86400  2017-02-27T20:26:00.000  2017-03-01T09:49:00.000   \n",
       "\n",
       "   Starting Station ID  Starting Station Latitude  Starting Station Longitude  \\\n",
       "0               3031.0                  34.044701                 -118.252441   \n",
       "1                  NaN                        NaN                         NaN   \n",
       "2               3026.0                  34.063179                 -118.245880   \n",
       "3               3023.0                  34.050911                 -118.240967   \n",
       "4               3008.0                  34.046612                 -118.262733   \n",
       "\n",
       "   Ending Station ID  Ending Station Latitude  Ending Station Longitude  ...  \\\n",
       "0             3000.0                      NaN                       NaN  ...   \n",
       "1             3000.0                      NaN                       NaN  ...   \n",
       "2             3000.0                      NaN                       NaN  ...   \n",
       "3             3000.0                      NaN                       NaN  ...   \n",
       "4             3000.0                      NaN                       NaN  ...   \n",
       "\n",
       "   Ending Lat-Long  Neighborhood Councils (Certified) Council Districts  \\\n",
       "0              NaN                                NaN               NaN   \n",
       "1              NaN                                NaN               NaN   \n",
       "2              NaN                                NaN               NaN   \n",
       "3              NaN                                NaN               NaN   \n",
       "4              NaN                                NaN               NaN   \n",
       "\n",
       "  Zip Codes LA Specific Plans Precinct Boundaries  Census Tracts  \\\n",
       "0       NaN               NaN                 NaN            NaN   \n",
       "1       NaN               NaN                 NaN            NaN   \n",
       "2       NaN               NaN                 NaN            NaN   \n",
       "3       NaN               NaN                 NaN            NaN   \n",
       "4       NaN               NaN                 NaN            NaN   \n",
       "\n",
       "     StartTime_Parsed      EndTime_Parsed        duration  \n",
       "0 2017-01-19 17:05:00 2017-01-19 21:16:00 0 days 04:11:00  \n",
       "1 2016-10-09 14:37:00 2016-10-10 12:03:00 0 days 21:26:00  \n",
       "2 2017-02-18 10:15:00 2017-02-20 15:20:00 2 days 05:05:00  \n",
       "3 2017-02-27 12:26:00 2017-02-27 17:40:00 0 days 05:14:00  \n",
       "4 2017-02-27 20:26:00 2017-03-01 09:49:00 1 days 13:23:00  \n",
       "\n",
       "[5 rows x 25 columns]"
      ]
     },
     "execution_count": 121,
     "metadata": {},
     "output_type": "execute_result"
    }
   ],
   "source": [
    "df_bike['duration'] = df_bike['EndTime_Parsed'] - df_bike['StartTime_Parsed']\n",
    "df_bike.head()"
   ]
  },
  {
   "cell_type": "code",
   "execution_count": 147,
   "id": "85c3c94d-a21e-4387-84fd-51945d4b807e",
   "metadata": {},
   "outputs": [
    {
     "name": "stdout",
     "output_type": "stream",
     "text": [
      "Mininum duration: 0 days 00:01:00\n",
      "Maximum duration: 5 days 16:28:00\n"
     ]
    }
   ],
   "source": [
    "print('Mininum duration: '+ str(min(df_bike['duration'])))\n",
    "print('Maximum duration: '+str(max(df_bike['duration'])))"
   ]
  },
  {
   "cell_type": "markdown",
   "id": "9a452e06-f97d-4f4a-850f-9946890aef3e",
   "metadata": {},
   "source": [
    "## Unix Timestamp"
   ]
  },
  {
   "cell_type": "markdown",
   "id": "2577407a-74e5-4040-8f4f-231c6d79a90e",
   "metadata": {},
   "source": [
    "The Unix timestamp is just the number of seconds elapsed since January 1st, 1970 at UTC. "
   ]
  },
  {
   "cell_type": "code",
   "execution_count": 138,
   "id": "4803019c-f718-44af-9a60-aee7878bfe79",
   "metadata": {},
   "outputs": [
    {
     "name": "stdout",
     "output_type": "stream",
     "text": [
      "1970-01-01 01:00:00\n",
      "1970-01-01 01:00:01\n",
      "1970-01-01 01:00:02\n",
      "1970-02-04 18:20:00\n",
      "1973-03-03 10:46:40\n",
      "2020-09-13 13:26:40\n",
      "2035-09-17 17:12:36\n"
     ]
    }
   ],
   "source": [
    "timestamps = [0, 1, 2, 3000000, 100000000, 1600000000, 2073658356]\n",
    "\n",
    "for ts in timestamps:\n",
    "    print(dt.datetime.fromtimestamp(ts))"
   ]
  },
  {
   "cell_type": "markdown",
   "id": "92f6f6d0-845f-4356-9e9c-50d072c2474d",
   "metadata": {},
   "source": [
    "## Time Zone And UTC Offset"
   ]
  },
  {
   "cell_type": "code",
   "execution_count": 168,
   "id": "553d6cc7-35bc-4598-9f7e-db00302a57d4",
   "metadata": {},
   "outputs": [],
   "source": [
    "national_day_event_UK_2022 = dt.datetime(2022, 4, 23, 11, 14, 15, tzinfo=dt.timezone.utc)"
   ]
  },
  {
   "cell_type": "code",
   "execution_count": 169,
   "id": "d51df3de-68e4-46b4-8d5d-d681d580e7e2",
   "metadata": {},
   "outputs": [
    {
     "data": {
      "text/plain": [
       "'2022-04-23T11:14:15+00:00'"
      ]
     },
     "execution_count": 169,
     "metadata": {},
     "output_type": "execute_result"
    }
   ],
   "source": [
    "national_day_event_UK_2022.isoformat()"
   ]
  },
  {
   "cell_type": "markdown",
   "id": "c1cc2efd-84d7-4ba9-af5a-346af3062999",
   "metadata": {},
   "source": [
    "Creat a timezone for Eastern European Time, UTC+2, which is the winter time in Helsinki/Tallinn."
   ]
  },
  {
   "cell_type": "code",
   "execution_count": 171,
   "id": "edbdfd1e-d7de-4c0c-9e30-3dfbebdc5e6a",
   "metadata": {},
   "outputs": [],
   "source": [
    "eet = dt.timezone(dt.timedelta(hours=2))"
   ]
  },
  {
   "cell_type": "code",
   "execution_count": 187,
   "id": "d0d3b44e-fc0b-4b03-8434-430c8e18fe07",
   "metadata": {},
   "outputs": [
    {
     "data": {
      "text/plain": [
       "'2022-04-23T18:14:15+02:00'"
      ]
     },
     "execution_count": 187,
     "metadata": {},
     "output_type": "execute_result"
    }
   ],
   "source": [
    "national_day_event_UK_2022 = dt.datetime(2022, 4, 23, 18, 14, 15, tzinfo=eet)\n",
    "national_day_event_UK_2022.isoformat()"
   ]
  },
  {
   "cell_type": "markdown",
   "id": "793f418d-28d7-4fa9-aa8d-8027da28bc4e",
   "metadata": {},
   "source": [
    "If you think the time zone was a mistake, then ```replace``` it with a new one. Here I just print it out, rather than assign to a new datetime object."
   ]
  },
  {
   "cell_type": "code",
   "execution_count": 193,
   "id": "98ce15e9-d36f-4215-8c56-0669248842cf",
   "metadata": {},
   "outputs": [
    {
     "name": "stdout",
     "output_type": "stream",
     "text": [
      "2022-04-23 18:14:15+08:00\n"
     ]
    }
   ],
   "source": [
    "beijing_time = dt.timezone(dt.timedelta(hours=8))\n",
    "print(national_day_event_UK_2022.replace(tzinfo=beijing_time))"
   ]
  },
  {
   "cell_type": "markdown",
   "id": "41cc12db-31fc-4d9b-bbf0-2a947fa4127a",
   "metadata": {},
   "source": [
    "Display local time in new time zone."
   ]
  },
  {
   "cell_type": "code",
   "execution_count": 189,
   "id": "c4159d0a-795a-4b85-8e87-fee4e4f1fd49",
   "metadata": {},
   "outputs": [
    {
     "data": {
      "text/plain": [
       "'2022-04-23T16:14:15+00:00'"
      ]
     },
     "execution_count": 189,
     "metadata": {},
     "output_type": "execute_result"
    }
   ],
   "source": [
    "national_day_event_UK_2022.astimezone(dt.timezone.utc).isoformat()"
   ]
  },
  {
   "cell_type": "markdown",
   "id": "0c7fb1c6-2e03-4a78-9404-ca7373d30751",
   "metadata": {},
   "source": [
    "## IANA Timezone"
   ]
  },
  {
   "cell_type": "markdown",
   "id": "117e62e8-76ed-4dfc-831f-fabf323a2bde",
   "metadata": {},
   "source": [
    "If you know location, e.g. city name, you can call <a href='https://en.wikipedia.org/wiki/List_of_tz_database_time_zones'>IANA timezone</a> time directly, such as ```Europe/Paris``` or ```Asia/Chungking```.\n",
    "\n",
    "We will use ```dateutil``` library, which has been imported at the top of this file."
   ]
  },
  {
   "cell_type": "code",
   "execution_count": 198,
   "id": "e77fc729-879d-4863-8b70-2eb7d9206938",
   "metadata": {},
   "outputs": [],
   "source": [
    "ck_time = du.tz.gettz('Asia/Chungking')"
   ]
  },
  {
   "cell_type": "code",
   "execution_count": 200,
   "id": "2e76a7de-9610-4f9f-9032-9e56309e65eb",
   "metadata": {},
   "outputs": [
    {
     "data": {
      "text/plain": [
       "'2022-04-24T00:14:15+08:00'"
      ]
     },
     "execution_count": 200,
     "metadata": {},
     "output_type": "execute_result"
    }
   ],
   "source": [
    "national_day_event_UK_2022.astimezone(ck_time).isoformat()"
   ]
  },
  {
   "cell_type": "code",
   "execution_count": 202,
   "id": "e08ccf09-85f9-45e9-a45e-a22bdce8d143",
   "metadata": {},
   "outputs": [
    {
     "data": {
      "text/plain": [
       "'2022-04-23T12:14:15-04:00'"
      ]
     },
     "execution_count": 202,
     "metadata": {},
     "output_type": "execute_result"
    }
   ],
   "source": [
    "ny_time = du.tz.gettz('America/New_York')\n",
    "national_day_event_UK_2022.astimezone(ny_time).isoformat()"
   ]
  },
  {
   "cell_type": "markdown",
   "id": "593c07a2-c7be-431b-a37b-967520dab696",
   "metadata": {},
   "source": [
    "## Winter Time Change"
   ]
  },
  {
   "cell_type": "markdown",
   "id": "5231e408-1755-4150-9b7c-d1b079fc5ca6",
   "metadata": {},
   "source": [
    "This is common practice in European Union. For instance, Poland changes to winter time at 3:00AM, 31th Oct 2021. We will take a look at time offset before and after the change."
   ]
  },
  {
   "cell_type": "code",
   "execution_count": 231,
   "id": "73d856b9-8743-4e8f-8d42-b9ceedeb88ed",
   "metadata": {},
   "outputs": [
    {
     "name": "stdout",
     "output_type": "stream",
     "text": [
      "2021-10-31T01:00:00+02:00 to 2021-10-31T07:00:00+01:00\n"
     ]
    }
   ],
   "source": [
    "before = dt.datetime(2021, 10, 31, 1, 0, 0, tzinfo=du.tz.gettz('Europe/Warsaw'))\n",
    "after = before + dt.timedelta(hours=6)\n",
    "print(before.isoformat() + \" to \" + after.isoformat())"
   ]
  },
  {
   "cell_type": "markdown",
   "id": "ce490a86-0a8c-4c44-97e1-2568fe9476b4",
   "metadata": {},
   "source": [
    "As you can see the UTC offset changed from ```+02:00``` to ```+01:00```, however the time change doesn't seem to reflect in the hours addition? Elapsing $6$ hours from ```T01:00:00``` should be at ```T06:00:00``` due to one hour shift backward."
   ]
  },
  {
   "cell_type": "markdown",
   "id": "7a430c02-14eb-4bc1-a719-616c81710bf8",
   "metadata": {},
   "source": [
    "We can verify how many hours Python assumes elapsed."
   ]
  },
  {
   "cell_type": "code",
   "execution_count": 230,
   "id": "0191406d-8163-4531-bc5b-0c46893e62b6",
   "metadata": {},
   "outputs": [
    {
     "data": {
      "text/plain": [
       "6.0"
      ]
     },
     "execution_count": 230,
     "metadata": {},
     "output_type": "execute_result"
    }
   ],
   "source": [
    "(after - before).seconds/(60**2)"
   ]
  },
  {
   "cell_type": "markdown",
   "id": "30c43ce0-b2b2-42d1-810f-7840fec40436",
   "metadata": {},
   "source": [
    "If we use UTC as a reference time zone."
   ]
  },
  {
   "cell_type": "code",
   "execution_count": 234,
   "id": "cf7d22df-f4c5-4d06-bf94-a7288f950762",
   "metadata": {},
   "outputs": [
    {
     "data": {
      "text/plain": [
       "7.0"
      ]
     },
     "execution_count": 234,
     "metadata": {},
     "output_type": "execute_result"
    }
   ],
   "source": [
    "utc_delta = after.astimezone(dt.timezone.utc) - before.astimezone(dt.timezone.utc) \n",
    "utc_delta.seconds/(60**2)"
   ]
  },
  {
   "cell_type": "code",
   "execution_count": 235,
   "id": "2361d90f-0689-43d2-bf42-9106e13a86b0",
   "metadata": {},
   "outputs": [
    {
     "data": {
      "text/plain": [
       "datetime.datetime(2021, 10, 31, 6, 0, tzinfo=datetime.timezone.utc)"
      ]
     },
     "execution_count": 235,
     "metadata": {},
     "output_type": "execute_result"
    }
   ],
   "source": [
    "after.astimezone(dt.timezone.utc)"
   ]
  },
  {
   "cell_type": "code",
   "execution_count": 236,
   "id": "479315b6-f739-4445-a670-1776a8ee5aa5",
   "metadata": {},
   "outputs": [
    {
     "data": {
      "text/plain": [
       "datetime.datetime(2021, 10, 30, 23, 0, tzinfo=datetime.timezone.utc)"
      ]
     },
     "execution_count": 236,
     "metadata": {},
     "output_type": "execute_result"
    }
   ],
   "source": [
    "before.astimezone(dt.timezone.utc) "
   ]
  },
  {
   "cell_type": "code",
   "execution_count": 241,
   "id": "912a9665-683c-44cc-b20a-3ae4a7098ac0",
   "metadata": {},
   "outputs": [
    {
     "name": "stdout",
     "output_type": "stream",
     "text": [
      "2000-10-31T01:00:00+01:00\n",
      "2001-10-31T01:00:00+01:00\n",
      "2002-10-31T01:00:00+01:00\n",
      "2003-10-31T01:00:00+01:00\n",
      "2004-10-31T01:00:00+02:00\n",
      "2005-10-31T01:00:00+01:00\n",
      "2006-10-31T01:00:00+01:00\n",
      "2007-10-31T01:00:00+01:00\n",
      "2008-10-31T01:00:00+01:00\n",
      "2009-10-31T01:00:00+01:00\n",
      "2010-10-31T01:00:00+02:00\n",
      "2011-10-31T01:00:00+01:00\n",
      "2012-10-31T01:00:00+01:00\n",
      "2013-10-31T01:00:00+01:00\n",
      "2014-10-31T01:00:00+01:00\n",
      "2015-10-31T01:00:00+01:00\n",
      "2016-10-31T01:00:00+01:00\n",
      "2017-10-31T01:00:00+01:00\n",
      "2018-10-31T01:00:00+01:00\n",
      "2019-10-31T01:00:00+01:00\n",
      "2020-10-31T01:00:00+01:00\n",
      "2021-10-31T01:00:00+02:00\n",
      "2022-10-31T01:00:00+01:00\n",
      "2023-10-31T01:00:00+01:00\n",
      "2024-10-31T01:00:00+01:00\n",
      "2025-10-31T01:00:00+01:00\n",
      "2026-10-31T01:00:00+01:00\n",
      "2027-10-31T01:00:00+02:00\n",
      "2028-10-31T01:00:00+01:00\n",
      "2029-10-31T01:00:00+01:00\n",
      "2030-10-31T01:00:00+01:00\n",
      "2031-10-31T01:00:00+01:00\n",
      "2032-10-31T01:00:00+02:00\n",
      "2033-10-31T01:00:00+01:00\n",
      "2034-10-31T01:00:00+01:00\n",
      "2035-10-31T01:00:00+01:00\n",
      "2036-10-31T01:00:00+01:00\n",
      "2037-10-31T01:00:00+01:00\n",
      "2038-10-31T01:00:00+01:00\n",
      "2039-10-31T01:00:00+01:00\n",
      "2040-10-31T01:00:00+01:00\n",
      "2041-10-31T01:00:00+01:00\n",
      "2042-10-31T01:00:00+01:00\n",
      "2043-10-31T01:00:00+01:00\n",
      "2044-10-31T01:00:00+01:00\n",
      "2045-10-31T01:00:00+01:00\n",
      "2046-10-31T01:00:00+01:00\n",
      "2047-10-31T01:00:00+01:00\n",
      "2048-10-31T01:00:00+01:00\n",
      "2049-10-31T01:00:00+01:00\n"
     ]
    }
   ],
   "source": [
    "end_Oct = dt.datetime(2000, 10, 31, 1, 0, 0, tzinfo=du.tz.gettz('Europe/Warsaw'))\n",
    "for y in range(2000, 2050):\n",
    "    print(end_Oct.replace(year=y).isoformat())"
   ]
  },
  {
   "cell_type": "code",
   "execution_count": null,
   "id": "fa731e21-6ea4-462c-9c29-b63f109db897",
   "metadata": {},
   "outputs": [],
   "source": []
  }
 ],
 "metadata": {
  "kernelspec": {
   "display_name": "Python 3",
   "language": "python",
   "name": "python3"
  },
  "language_info": {
   "codemirror_mode": {
    "name": "ipython",
    "version": 3
   },
   "file_extension": ".py",
   "mimetype": "text/x-python",
   "name": "python",
   "nbconvert_exporter": "python",
   "pygments_lexer": "ipython3",
   "version": "3.8.8"
  }
 },
 "nbformat": 4,
 "nbformat_minor": 5
}
