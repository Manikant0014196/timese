{
 "cells": [
  {
   "cell_type": "code",
   "execution_count": 1,
   "id": "d0326507-96c9-48f5-9e62-28a989130e74",
   "metadata": {},
   "outputs": [],
   "source": [
    "import pandas as pd\n",
    "import datetime as dt"
   ]
  },
  {
   "cell_type": "code",
   "execution_count": 16,
   "id": "1494692d-39f1-48c4-9b23-c179c29ac707",
   "metadata": {},
   "outputs": [],
   "source": [
    "def filter_dunder(any_obj):\n",
    "    temp_list = dir(any_obj)\n",
    "    date_obj_meth_attr = []\n",
    "    for i in temp_list:\n",
    "        if i[0:2] != '__':\n",
    "            date_obj_meth_attr.append(i)\n",
    "    date_obj_meth_attr = {'meth_attr':date_obj_meth_attr}\n",
    "    return pd.DataFrame(date_obj_meth_attr)"
   ]
  },
  {
   "cell_type": "code",
   "execution_count": 7,
   "id": "da718559-fa1b-47a3-ba92-30974484ce89",
   "metadata": {},
   "outputs": [],
   "source": [
    "time_stamp = pd.Timestamp(dt.datetime(2021,12,25))"
   ]
  },
  {
   "cell_type": "code",
   "execution_count": 22,
   "id": "28557af6-0824-417a-b3f2-78e8210c51e3",
   "metadata": {},
   "outputs": [
    {
     "data": {
      "text/html": [
       "<div>\n",
       "<style scoped>\n",
       "    .dataframe tbody tr th:only-of-type {\n",
       "        vertical-align: middle;\n",
       "    }\n",
       "\n",
       "    .dataframe tbody tr th {\n",
       "        vertical-align: top;\n",
       "    }\n",
       "\n",
       "    .dataframe thead th {\n",
       "        text-align: right;\n",
       "    }\n",
       "</style>\n",
       "<table border=\"1\" class=\"dataframe\">\n",
       "  <thead>\n",
       "    <tr style=\"text-align: right;\">\n",
       "      <th></th>\n",
       "      <th>meth_attr</th>\n",
       "    </tr>\n",
       "  </thead>\n",
       "  <tbody>\n",
       "    <tr>\n",
       "      <th>0</th>\n",
       "      <td>_date_repr</td>\n",
       "    </tr>\n",
       "    <tr>\n",
       "      <th>1</th>\n",
       "      <td>_repr_base</td>\n",
       "    </tr>\n",
       "    <tr>\n",
       "      <th>2</th>\n",
       "      <td>_round</td>\n",
       "    </tr>\n",
       "    <tr>\n",
       "      <th>3</th>\n",
       "      <td>_short_repr</td>\n",
       "    </tr>\n",
       "    <tr>\n",
       "      <th>4</th>\n",
       "      <td>_time_repr</td>\n",
       "    </tr>\n",
       "    <tr>\n",
       "      <th>...</th>\n",
       "      <td>...</td>\n",
       "    </tr>\n",
       "    <tr>\n",
       "      <th>75</th>\n",
       "      <td>value</td>\n",
       "    </tr>\n",
       "    <tr>\n",
       "      <th>76</th>\n",
       "      <td>week</td>\n",
       "    </tr>\n",
       "    <tr>\n",
       "      <th>77</th>\n",
       "      <td>weekday</td>\n",
       "    </tr>\n",
       "    <tr>\n",
       "      <th>78</th>\n",
       "      <td>weekofyear</td>\n",
       "    </tr>\n",
       "    <tr>\n",
       "      <th>79</th>\n",
       "      <td>year</td>\n",
       "    </tr>\n",
       "  </tbody>\n",
       "</table>\n",
       "<p>80 rows × 1 columns</p>\n",
       "</div>"
      ],
      "text/plain": [
       "      meth_attr\n",
       "0    _date_repr\n",
       "1    _repr_base\n",
       "2        _round\n",
       "3   _short_repr\n",
       "4    _time_repr\n",
       "..          ...\n",
       "75        value\n",
       "76         week\n",
       "77      weekday\n",
       "78   weekofyear\n",
       "79         year\n",
       "\n",
       "[80 rows x 1 columns]"
      ]
     },
     "execution_count": 22,
     "metadata": {},
     "output_type": "execute_result"
    }
   ],
   "source": [
    "filter_dunder(time_stamp)"
   ]
  },
  {
   "cell_type": "code",
   "execution_count": 15,
   "id": "b7b84b2e-d42c-41b3-9dbe-df6b7d080c6c",
   "metadata": {},
   "outputs": [
    {
     "name": "stdout",
     "output_type": "stream",
     "text": [
      "2021\n",
      "12\n",
      "25\n",
      "Saturday\n"
     ]
    }
   ],
   "source": [
    "print(time_stamp.year)\n",
    "print(time_stamp.month)\n",
    "print(time_stamp.day)\n",
    "print(time_stamp.day_name())"
   ]
  },
  {
   "cell_type": "code",
   "execution_count": 36,
   "id": "e195e24d-09f9-4fc3-af18-5df9fa2e0480",
   "metadata": {},
   "outputs": [
    {
     "data": {
      "text/plain": [
       "Period('2021-08', 'M')"
      ]
     },
     "execution_count": 36,
     "metadata": {},
     "output_type": "execute_result"
    }
   ],
   "source": [
    "period = pd.Period('2021-8'); period"
   ]
  },
  {
   "cell_type": "code",
   "execution_count": 37,
   "id": "625b3a06-e6d4-452e-a461-82eeb3f27071",
   "metadata": {},
   "outputs": [
    {
     "data": {
      "text/plain": [
       "Period('2021-08-28', 'D')"
      ]
     },
     "execution_count": 37,
     "metadata": {},
     "output_type": "execute_result"
    }
   ],
   "source": [
    "period_2 = pd.Period('2021-8-28', 'D'); period_2"
   ]
  },
  {
   "cell_type": "code",
   "execution_count": null,
   "id": "d8395fcd-c9d0-4e6c-bd50-c10b5e250ec2",
   "metadata": {},
   "outputs": [],
   "source": []
  }
 ],
 "metadata": {
  "kernelspec": {
   "display_name": "Python 3",
   "language": "python",
   "name": "python3"
  },
  "language_info": {
   "codemirror_mode": {
    "name": "ipython",
    "version": 3
   },
   "file_extension": ".py",
   "mimetype": "text/x-python",
   "name": "python",
   "nbconvert_exporter": "python",
   "pygments_lexer": "ipython3",
   "version": "3.8.8"
  }
 },
 "nbformat": 4,
 "nbformat_minor": 5
}
